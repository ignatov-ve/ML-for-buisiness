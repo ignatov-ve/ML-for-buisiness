{
 "cells": [
  {
   "cell_type": "markdown",
   "metadata": {},
   "source": [
    "### Домашняя работа № 6\n",
    "Был взят датасет, приведенный к материалам урока."
   ]
  },
  {
   "cell_type": "markdown",
   "metadata": {},
   "source": [
    "Прочитаем датасет"
   ]
  },
  {
   "cell_type": "code",
   "execution_count": 1,
   "metadata": {},
   "outputs": [
    {
     "data": {
      "text/html": [
       "<div>\n",
       "<style scoped>\n",
       "    .dataframe tbody tr th:only-of-type {\n",
       "        vertical-align: middle;\n",
       "    }\n",
       "\n",
       "    .dataframe tbody tr th {\n",
       "        vertical-align: top;\n",
       "    }\n",
       "\n",
       "    .dataframe thead th {\n",
       "        text-align: right;\n",
       "    }\n",
       "</style>\n",
       "<table border=\"1\" class=\"dataframe\">\n",
       "  <thead>\n",
       "    <tr style=\"text-align: right;\">\n",
       "      <th></th>\n",
       "      <th>LIMIT_BAL</th>\n",
       "      <th>SEX</th>\n",
       "      <th>EDUCATION</th>\n",
       "      <th>MARRIAGE</th>\n",
       "      <th>AGE</th>\n",
       "      <th>PAY_1</th>\n",
       "      <th>PAY_2</th>\n",
       "      <th>PAY_3</th>\n",
       "      <th>PAY_4</th>\n",
       "      <th>PAY_5</th>\n",
       "      <th>...</th>\n",
       "      <th>BILL_AMT4</th>\n",
       "      <th>BILL_AMT5</th>\n",
       "      <th>BILL_AMT6</th>\n",
       "      <th>PAY_AMT1</th>\n",
       "      <th>PAY_AMT2</th>\n",
       "      <th>PAY_AMT3</th>\n",
       "      <th>PAY_AMT4</th>\n",
       "      <th>PAY_AMT5</th>\n",
       "      <th>PAY_AMT6</th>\n",
       "      <th>NEXT_MONTH_DEFAULT</th>\n",
       "    </tr>\n",
       "  </thead>\n",
       "  <tbody>\n",
       "    <tr>\n",
       "      <th>0</th>\n",
       "      <td>150000.0</td>\n",
       "      <td>2</td>\n",
       "      <td>2</td>\n",
       "      <td>2</td>\n",
       "      <td>24</td>\n",
       "      <td>1</td>\n",
       "      <td>2</td>\n",
       "      <td>0</td>\n",
       "      <td>0</td>\n",
       "      <td>0</td>\n",
       "      <td>...</td>\n",
       "      <td>17853.0</td>\n",
       "      <td>34527.0</td>\n",
       "      <td>28277.0</td>\n",
       "      <td>0.0</td>\n",
       "      <td>2145.0</td>\n",
       "      <td>10000.0</td>\n",
       "      <td>22000.0</td>\n",
       "      <td>3000.0</td>\n",
       "      <td>5093.0</td>\n",
       "      <td>0</td>\n",
       "    </tr>\n",
       "    <tr>\n",
       "      <th>1</th>\n",
       "      <td>50000.0</td>\n",
       "      <td>2</td>\n",
       "      <td>3</td>\n",
       "      <td>1</td>\n",
       "      <td>46</td>\n",
       "      <td>3</td>\n",
       "      <td>3</td>\n",
       "      <td>3</td>\n",
       "      <td>3</td>\n",
       "      <td>2</td>\n",
       "      <td>...</td>\n",
       "      <td>30748.0</td>\n",
       "      <td>30162.0</td>\n",
       "      <td>30016.0</td>\n",
       "      <td>0.0</td>\n",
       "      <td>0.0</td>\n",
       "      <td>0.0</td>\n",
       "      <td>0.0</td>\n",
       "      <td>3100.0</td>\n",
       "      <td>798.0</td>\n",
       "      <td>1</td>\n",
       "    </tr>\n",
       "    <tr>\n",
       "      <th>2</th>\n",
       "      <td>150000.0</td>\n",
       "      <td>2</td>\n",
       "      <td>2</td>\n",
       "      <td>1</td>\n",
       "      <td>41</td>\n",
       "      <td>-1</td>\n",
       "      <td>-1</td>\n",
       "      <td>-1</td>\n",
       "      <td>-1</td>\n",
       "      <td>0</td>\n",
       "      <td>...</td>\n",
       "      <td>6784.0</td>\n",
       "      <td>6923.0</td>\n",
       "      <td>14116.0</td>\n",
       "      <td>0.0</td>\n",
       "      <td>0.0</td>\n",
       "      <td>6784.0</td>\n",
       "      <td>159.0</td>\n",
       "      <td>167.0</td>\n",
       "      <td>760.0</td>\n",
       "      <td>0</td>\n",
       "    </tr>\n",
       "  </tbody>\n",
       "</table>\n",
       "<p>3 rows × 24 columns</p>\n",
       "</div>"
      ],
      "text/plain": [
       "   LIMIT_BAL  SEX  EDUCATION  MARRIAGE  AGE  PAY_1  PAY_2  PAY_3  PAY_4  \\\n",
       "0   150000.0    2          2         2   24      1      2      0      0   \n",
       "1    50000.0    2          3         1   46      3      3      3      3   \n",
       "2   150000.0    2          2         1   41     -1     -1     -1     -1   \n",
       "\n",
       "   PAY_5  ...  BILL_AMT4  BILL_AMT5  BILL_AMT6  PAY_AMT1  PAY_AMT2  PAY_AMT3  \\\n",
       "0      0  ...    17853.0    34527.0    28277.0       0.0    2145.0   10000.0   \n",
       "1      2  ...    30748.0    30162.0    30016.0       0.0       0.0       0.0   \n",
       "2      0  ...     6784.0     6923.0    14116.0       0.0       0.0    6784.0   \n",
       "\n",
       "   PAY_AMT4  PAY_AMT5  PAY_AMT6  NEXT_MONTH_DEFAULT  \n",
       "0   22000.0    3000.0    5093.0                   0  \n",
       "1       0.0    3100.0     798.0                   1  \n",
       "2     159.0     167.0     760.0                   0  \n",
       "\n",
       "[3 rows x 24 columns]"
      ]
     },
     "execution_count": 1,
     "metadata": {},
     "output_type": "execute_result"
    }
   ],
   "source": [
    "import pandas as pd\n",
    "import numpy as np\n",
    "data = pd.read_csv(\"/home/vyacheslav/Рабочий стол/Data Scientist/IV ЧЕТВЕРТЬ/I. Машинное обучение в бизнесе/6 lesson/training_project_data.csv\")\n",
    "data.head(3)"
   ]
  },
  {
   "cell_type": "code",
   "execution_count": 2,
   "metadata": {},
   "outputs": [
    {
     "name": "stdout",
     "output_type": "stream",
     "text": [
      "<class 'pandas.core.frame.DataFrame'>\n",
      "RangeIndex: 10000 entries, 0 to 9999\n",
      "Data columns (total 24 columns):\n",
      " #   Column              Non-Null Count  Dtype  \n",
      "---  ------              --------------  -----  \n",
      " 0   LIMIT_BAL           10000 non-null  float64\n",
      " 1   SEX                 10000 non-null  int64  \n",
      " 2   EDUCATION           10000 non-null  int64  \n",
      " 3   MARRIAGE            10000 non-null  int64  \n",
      " 4   AGE                 10000 non-null  int64  \n",
      " 5   PAY_1               10000 non-null  int64  \n",
      " 6   PAY_2               10000 non-null  int64  \n",
      " 7   PAY_3               10000 non-null  int64  \n",
      " 8   PAY_4               10000 non-null  int64  \n",
      " 9   PAY_5               10000 non-null  int64  \n",
      " 10  PAY_6               10000 non-null  int64  \n",
      " 11  BILL_AMT1           10000 non-null  float64\n",
      " 12  BILL_AMT2           10000 non-null  float64\n",
      " 13  BILL_AMT3           10000 non-null  float64\n",
      " 14  BILL_AMT4           10000 non-null  float64\n",
      " 15  BILL_AMT5           10000 non-null  float64\n",
      " 16  BILL_AMT6           10000 non-null  float64\n",
      " 17  PAY_AMT1            10000 non-null  float64\n",
      " 18  PAY_AMT2            10000 non-null  float64\n",
      " 19  PAY_AMT3            10000 non-null  float64\n",
      " 20  PAY_AMT4            10000 non-null  float64\n",
      " 21  PAY_AMT5            10000 non-null  float64\n",
      " 22  PAY_AMT6            10000 non-null  float64\n",
      " 23  NEXT_MONTH_DEFAULT  10000 non-null  int64  \n",
      "dtypes: float64(13), int64(11)\n",
      "memory usage: 1.8 MB\n"
     ]
    }
   ],
   "source": [
    "data.info()"
   ]
  },
  {
   "cell_type": "markdown",
   "metadata": {},
   "source": [
    "У нас есть 24 признака и 1 целевая переменная (бинарная) - нужно определить наступление дефолта по кредиту"
   ]
  },
  {
   "cell_type": "code",
   "execution_count": 3,
   "metadata": {},
   "outputs": [
    {
     "name": "stdout",
     "output_type": "stream",
     "text": [
      "(10000, 24)\n"
     ]
    }
   ],
   "source": [
    "print(data.shape)"
   ]
  },
  {
   "cell_type": "markdown",
   "metadata": {},
   "source": [
    "Всего 10000 кредитов"
   ]
  },
  {
   "cell_type": "markdown",
   "metadata": {},
   "source": [
    "Посмотрим на соотношение классов"
   ]
  },
  {
   "cell_type": "code",
   "execution_count": 4,
   "metadata": {},
   "outputs": [
    {
     "data": {
      "text/plain": [
       "0    7805\n",
       "1    2195\n",
       "Name: NEXT_MONTH_DEFAULT, dtype: int64"
      ]
     },
     "execution_count": 4,
     "metadata": {},
     "output_type": "execute_result"
    }
   ],
   "source": [
    "data.iloc[:, -1].value_counts()"
   ]
  },
  {
   "cell_type": "markdown",
   "metadata": {},
   "source": [
    "В целом соотношение классов 1 к 4, не так уж и плохо. Далее построим новые признаки."
   ]
  },
  {
   "cell_type": "code",
   "execution_count": 5,
   "metadata": {},
   "outputs": [
    {
     "data": {
      "text/plain": [
       "array([ 1,  3, -1,  0,  2])"
      ]
     },
     "execution_count": 5,
     "metadata": {},
     "output_type": "execute_result"
    }
   ],
   "source": [
    "data['PAY_1'].unique()"
   ]
  },
  {
   "cell_type": "code",
   "execution_count": 6,
   "metadata": {},
   "outputs": [],
   "source": [
    "col1 = ['SEX', 'EDUCATION', 'MARRIAGE', 'AGE', 'PAY_1', 'PAY_2', 'PAY_3', 'PAY_4', 'PAY_5', 'PAY_6', 'NEXT_MONTH_DEFAULT']\n",
    "col = list(set(data.columns) - set(col1))"
   ]
  },
  {
   "cell_type": "code",
   "execution_count": 7,
   "metadata": {},
   "outputs": [],
   "source": [
    "def transform_data(data):\n",
    "    for i1, col1 in enumerate(col):\n",
    "#         data[col1 + '_log'] = np.log(data[col1] + 1.1)\n",
    "        data[col1 + '_exp'] = np.exp(data[col1] + 1.1)\n",
    "        \n",
    "        for i2, col2 in enumerate(col):\n",
    "            data['%s_%s_1' % (col1, col2)] = data[col1] - data[col2]\n",
    "            data['%s_%s_2' % (col1, col2)] = data[col1] + data[col2]\n",
    "            data['%s_%s_3' % (col1, col2)] = data[col1] / (data[col2] + 0.1)\n",
    "            data['%s_%s_4' % (col1, col2)] = data[col1] * data[col2]\n",
    "            data['%s_%s_5' % (col1, col2)] = data[col1] ** data[col2]\n",
    "            \n",
    "#             data['%s_%s_11' % (col1, col2)] = data[col1] - np.log(data[col2] + 1)\n",
    "#             data['%s_%s_22' % (col1, col2)] = data[col1] + np.log(data[col2] + 1)\n",
    "#             data['%s_%s_33' % (col1, col2)] = data[col1] / (np.log(data[col2] + 1) + 0.1)\n",
    "#             data['%s_%s_44' % (col1, col2)] = data[col1] * np.log(data[col2] + 1)\n",
    "#             data['%s_%s_55' % (col1, col2)] = data[col1] ** np.log(data[col2] + 1)\n",
    "            \n",
    "    return data"
   ]
  },
  {
   "cell_type": "code",
   "execution_count": 8,
   "metadata": {},
   "outputs": [],
   "source": [
    "def transform_data1(data):\n",
    "    for i1, col1 in enumerate(col):\n",
    "        for i2, col2 in enumerate(col):\n",
    "#             data[col1 + '-'] = data[col1] - data[col2]\n",
    "            data[col1 + '+'] = data[col1] + data[col2]\n",
    "#             data[col1 + '/'] = data[col1] / (data[col2] + 0.1)\n",
    "            data[col1 + '*'] = data[col1] * data[col2]\n",
    "#             data[col1 + '**'] = data[col1] ** data[col2]\n",
    "            \n",
    "            \n",
    "    return data"
   ]
  },
  {
   "cell_type": "code",
   "execution_count": 9,
   "metadata": {},
   "outputs": [],
   "source": [
    "# data_fi = transform_data1(data)"
   ]
  },
  {
   "cell_type": "markdown",
   "metadata": {},
   "source": [
    "Разбиваем выборку на тренировочную и тестовую части и обучаем модель (используем - случайный лес)"
   ]
  },
  {
   "cell_type": "code",
   "execution_count": 10,
   "metadata": {},
   "outputs": [],
   "source": [
    "# data_fi"
   ]
  },
  {
   "cell_type": "code",
   "execution_count": 11,
   "metadata": {},
   "outputs": [],
   "source": [
    "from sklearn.model_selection import train_test_split\n",
    "\n",
    "# x_data = data_fi.iloc[:,:-1]\n",
    "# y_data = data_fi.iloc[:,-1]\n",
    "\n",
    "x_data = data.iloc[:,:-1]\n",
    "y_data = data.iloc[:,-1]\n",
    "\n",
    "x_train, x_test, y_train, y_test = train_test_split(x_data, y_data, test_size=0.2, random_state=7)"
   ]
  },
  {
   "cell_type": "code",
   "execution_count": 12,
   "metadata": {},
   "outputs": [],
   "source": [
    "import xgboost as xgb\n",
    "from sklearn.ensemble import RandomForestClassifier\n",
    "\n",
    "# from sklearn.linear_model import LogisticRegression  \n",
    "# from sklearn.neighbors import KNeighborsClassifier \n",
    "\n",
    "model = RandomForestClassifier(random_state=42)\n",
    "\n",
    "# model = xgb.XGBClassifier()\n",
    "\n",
    "# model = LogisticRegression()\n",
    "\n",
    "# model = KNeighborsClassifier(n_neighbors=5)\n",
    "\n",
    "model.fit(x_train, y_train)\n",
    "y_predict = model.predict(x_test)"
   ]
  },
  {
   "cell_type": "markdown",
   "metadata": {},
   "source": [
    "Проверяем качество"
   ]
  },
  {
   "cell_type": "code",
   "execution_count": 13,
   "metadata": {},
   "outputs": [
    {
     "name": "stdout",
     "output_type": "stream",
     "text": [
      "Classification results:\n",
      "f1: 45.60%\n",
      "roc: 65.03%\n",
      "recall: 36.74%\n",
      "precision: 60.08%\n"
     ]
    }
   ],
   "source": [
    "from sklearn.metrics import recall_score, precision_score, roc_auc_score, accuracy_score, f1_score\n",
    "\n",
    "f1_ = []\n",
    "roc_ = []\n",
    "recall_ = []\n",
    "precision_ = []\n",
    "\n",
    "def evaluate_results(y_test, y_predict):\n",
    "    print('Classification results:')\n",
    "    f1 = f1_score(y_test, y_predict)\n",
    "    f1_.append(f1)\n",
    "    print(\"f1: %.2f%%\" % (f1 * 100.0)) \n",
    "    roc = roc_auc_score(y_test, y_predict)\n",
    "    roc_.append(roc)\n",
    "    print(\"roc: %.2f%%\" % (roc * 100.0)) \n",
    "    rec = recall_score(y_test, y_predict, average='binary')\n",
    "    recall_.append(rec)\n",
    "    print(\"recall: %.2f%%\" % (rec * 100.0)) \n",
    "    prc = precision_score(y_test, y_predict, average='binary')\n",
    "    precision_.append(prc)\n",
    "    print(\"precision: %.2f%%\" % (prc * 100.0)) \n",
    "\n",
    "    \n",
    "evaluate_results(y_test, y_predict)"
   ]
  },
  {
   "cell_type": "markdown",
   "metadata": {},
   "source": [
    "### Теперь очередь за PU learning"
   ]
  },
  {
   "cell_type": "markdown",
   "metadata": {},
   "source": [
    "Представим, что нам неизвестны негативы и часть позитивов"
   ]
  },
  {
   "cell_type": "code",
   "execution_count": 54,
   "metadata": {},
   "outputs": [
    {
     "name": "stdout",
     "output_type": "stream",
     "text": [
      "Using 1208/2195 as positives and unlabeling the rest\n"
     ]
    }
   ],
   "source": [
    "mod_data = data.copy()\n",
    "#get the indices of the positives samples\n",
    "pos_ind = np.where(mod_data.iloc[:,-1].values == 1)[0]\n",
    "#shuffle them\n",
    "np.random.shuffle(pos_ind)\n",
    "# leave just 25% of the positives marked\n",
    "pos_sample_len = int(np.ceil(0.55 * len(pos_ind)))\n",
    "print(f'Using {pos_sample_len}/{len(pos_ind)} as positives and unlabeling the rest')\n",
    "pos_sample = pos_ind[:pos_sample_len]"
   ]
  },
  {
   "cell_type": "markdown",
   "metadata": {},
   "source": [
    "Создаем столбец для новой целевой переменной, где у нас два класса - P (1) и U (-1)"
   ]
  },
  {
   "cell_type": "code",
   "execution_count": 55,
   "metadata": {},
   "outputs": [
    {
     "name": "stdout",
     "output_type": "stream",
     "text": [
      "target variable:\n",
      " -1    8792\n",
      " 1    1208\n",
      "Name: class_test, dtype: int64\n"
     ]
    }
   ],
   "source": [
    "mod_data['class_test'] = -1\n",
    "mod_data.loc[pos_sample,'class_test'] = 1\n",
    "print('target variable:\\n', mod_data.iloc[:,-1].value_counts())"
   ]
  },
  {
   "cell_type": "code",
   "execution_count": 56,
   "metadata": {},
   "outputs": [
    {
     "data": {
      "text/html": [
       "<div>\n",
       "<style scoped>\n",
       "    .dataframe tbody tr th:only-of-type {\n",
       "        vertical-align: middle;\n",
       "    }\n",
       "\n",
       "    .dataframe tbody tr th {\n",
       "        vertical-align: top;\n",
       "    }\n",
       "\n",
       "    .dataframe thead th {\n",
       "        text-align: right;\n",
       "    }\n",
       "</style>\n",
       "<table border=\"1\" class=\"dataframe\">\n",
       "  <thead>\n",
       "    <tr style=\"text-align: right;\">\n",
       "      <th></th>\n",
       "      <th>LIMIT_BAL</th>\n",
       "      <th>SEX</th>\n",
       "      <th>EDUCATION</th>\n",
       "      <th>MARRIAGE</th>\n",
       "      <th>AGE</th>\n",
       "      <th>PAY_1</th>\n",
       "      <th>PAY_2</th>\n",
       "      <th>PAY_3</th>\n",
       "      <th>PAY_4</th>\n",
       "      <th>PAY_5</th>\n",
       "      <th>...</th>\n",
       "      <th>BILL_AMT5</th>\n",
       "      <th>BILL_AMT6</th>\n",
       "      <th>PAY_AMT1</th>\n",
       "      <th>PAY_AMT2</th>\n",
       "      <th>PAY_AMT3</th>\n",
       "      <th>PAY_AMT4</th>\n",
       "      <th>PAY_AMT5</th>\n",
       "      <th>PAY_AMT6</th>\n",
       "      <th>NEXT_MONTH_DEFAULT</th>\n",
       "      <th>class_test</th>\n",
       "    </tr>\n",
       "  </thead>\n",
       "  <tbody>\n",
       "    <tr>\n",
       "      <th>0</th>\n",
       "      <td>150000.0</td>\n",
       "      <td>2</td>\n",
       "      <td>2</td>\n",
       "      <td>2</td>\n",
       "      <td>24</td>\n",
       "      <td>1</td>\n",
       "      <td>2</td>\n",
       "      <td>0</td>\n",
       "      <td>0</td>\n",
       "      <td>0</td>\n",
       "      <td>...</td>\n",
       "      <td>34527.0</td>\n",
       "      <td>28277.0</td>\n",
       "      <td>0.0</td>\n",
       "      <td>2145.0</td>\n",
       "      <td>10000.0</td>\n",
       "      <td>22000.0</td>\n",
       "      <td>3000.0</td>\n",
       "      <td>5093.0</td>\n",
       "      <td>0</td>\n",
       "      <td>-1</td>\n",
       "    </tr>\n",
       "    <tr>\n",
       "      <th>1</th>\n",
       "      <td>50000.0</td>\n",
       "      <td>2</td>\n",
       "      <td>3</td>\n",
       "      <td>1</td>\n",
       "      <td>46</td>\n",
       "      <td>3</td>\n",
       "      <td>3</td>\n",
       "      <td>3</td>\n",
       "      <td>3</td>\n",
       "      <td>2</td>\n",
       "      <td>...</td>\n",
       "      <td>30162.0</td>\n",
       "      <td>30016.0</td>\n",
       "      <td>0.0</td>\n",
       "      <td>0.0</td>\n",
       "      <td>0.0</td>\n",
       "      <td>0.0</td>\n",
       "      <td>3100.0</td>\n",
       "      <td>798.0</td>\n",
       "      <td>1</td>\n",
       "      <td>1</td>\n",
       "    </tr>\n",
       "    <tr>\n",
       "      <th>2</th>\n",
       "      <td>150000.0</td>\n",
       "      <td>2</td>\n",
       "      <td>2</td>\n",
       "      <td>1</td>\n",
       "      <td>41</td>\n",
       "      <td>-1</td>\n",
       "      <td>-1</td>\n",
       "      <td>-1</td>\n",
       "      <td>-1</td>\n",
       "      <td>0</td>\n",
       "      <td>...</td>\n",
       "      <td>6923.0</td>\n",
       "      <td>14116.0</td>\n",
       "      <td>0.0</td>\n",
       "      <td>0.0</td>\n",
       "      <td>6784.0</td>\n",
       "      <td>159.0</td>\n",
       "      <td>167.0</td>\n",
       "      <td>760.0</td>\n",
       "      <td>0</td>\n",
       "      <td>-1</td>\n",
       "    </tr>\n",
       "    <tr>\n",
       "      <th>3</th>\n",
       "      <td>150000.0</td>\n",
       "      <td>2</td>\n",
       "      <td>2</td>\n",
       "      <td>2</td>\n",
       "      <td>35</td>\n",
       "      <td>0</td>\n",
       "      <td>0</td>\n",
       "      <td>0</td>\n",
       "      <td>0</td>\n",
       "      <td>0</td>\n",
       "      <td>...</td>\n",
       "      <td>48983.0</td>\n",
       "      <td>50136.0</td>\n",
       "      <td>3500.0</td>\n",
       "      <td>2000.0</td>\n",
       "      <td>20000.0</td>\n",
       "      <td>2000.0</td>\n",
       "      <td>2000.0</td>\n",
       "      <td>2000.0</td>\n",
       "      <td>0</td>\n",
       "      <td>-1</td>\n",
       "    </tr>\n",
       "    <tr>\n",
       "      <th>4</th>\n",
       "      <td>70000.0</td>\n",
       "      <td>2</td>\n",
       "      <td>1</td>\n",
       "      <td>1</td>\n",
       "      <td>35</td>\n",
       "      <td>1</td>\n",
       "      <td>2</td>\n",
       "      <td>2</td>\n",
       "      <td>2</td>\n",
       "      <td>2</td>\n",
       "      <td>...</td>\n",
       "      <td>45971.0</td>\n",
       "      <td>47573.0</td>\n",
       "      <td>0.0</td>\n",
       "      <td>6500.0</td>\n",
       "      <td>1800.0</td>\n",
       "      <td>0.0</td>\n",
       "      <td>2500.0</td>\n",
       "      <td>2000.0</td>\n",
       "      <td>0</td>\n",
       "      <td>-1</td>\n",
       "    </tr>\n",
       "    <tr>\n",
       "      <th>5</th>\n",
       "      <td>170000.0</td>\n",
       "      <td>2</td>\n",
       "      <td>1</td>\n",
       "      <td>2</td>\n",
       "      <td>27</td>\n",
       "      <td>-1</td>\n",
       "      <td>-1</td>\n",
       "      <td>-1</td>\n",
       "      <td>-1</td>\n",
       "      <td>-1</td>\n",
       "      <td>...</td>\n",
       "      <td>759.0</td>\n",
       "      <td>602.0</td>\n",
       "      <td>272.0</td>\n",
       "      <td>272.0</td>\n",
       "      <td>755.0</td>\n",
       "      <td>759.0</td>\n",
       "      <td>602.0</td>\n",
       "      <td>2581.0</td>\n",
       "      <td>0</td>\n",
       "      <td>-1</td>\n",
       "    </tr>\n",
       "    <tr>\n",
       "      <th>6</th>\n",
       "      <td>260000.0</td>\n",
       "      <td>2</td>\n",
       "      <td>1</td>\n",
       "      <td>1</td>\n",
       "      <td>29</td>\n",
       "      <td>0</td>\n",
       "      <td>0</td>\n",
       "      <td>0</td>\n",
       "      <td>-1</td>\n",
       "      <td>-1</td>\n",
       "      <td>...</td>\n",
       "      <td>0.0</td>\n",
       "      <td>0.0</td>\n",
       "      <td>3090.0</td>\n",
       "      <td>0.0</td>\n",
       "      <td>0.0</td>\n",
       "      <td>0.0</td>\n",
       "      <td>0.0</td>\n",
       "      <td>141516.0</td>\n",
       "      <td>0</td>\n",
       "      <td>-1</td>\n",
       "    </tr>\n",
       "    <tr>\n",
       "      <th>7</th>\n",
       "      <td>60000.0</td>\n",
       "      <td>2</td>\n",
       "      <td>2</td>\n",
       "      <td>2</td>\n",
       "      <td>26</td>\n",
       "      <td>0</td>\n",
       "      <td>0</td>\n",
       "      <td>0</td>\n",
       "      <td>0</td>\n",
       "      <td>0</td>\n",
       "      <td>...</td>\n",
       "      <td>-1073.0</td>\n",
       "      <td>-1073.0</td>\n",
       "      <td>1668.0</td>\n",
       "      <td>2000.0</td>\n",
       "      <td>1500.0</td>\n",
       "      <td>0.0</td>\n",
       "      <td>0.0</td>\n",
       "      <td>22000.0</td>\n",
       "      <td>0</td>\n",
       "      <td>-1</td>\n",
       "    </tr>\n",
       "    <tr>\n",
       "      <th>8</th>\n",
       "      <td>230000.0</td>\n",
       "      <td>2</td>\n",
       "      <td>1</td>\n",
       "      <td>2</td>\n",
       "      <td>28</td>\n",
       "      <td>-1</td>\n",
       "      <td>2</td>\n",
       "      <td>0</td>\n",
       "      <td>0</td>\n",
       "      <td>0</td>\n",
       "      <td>...</td>\n",
       "      <td>20109.0</td>\n",
       "      <td>13700.0</td>\n",
       "      <td>0.0</td>\n",
       "      <td>27446.0</td>\n",
       "      <td>1400.0</td>\n",
       "      <td>0.0</td>\n",
       "      <td>274.0</td>\n",
       "      <td>0.0</td>\n",
       "      <td>0</td>\n",
       "      <td>-1</td>\n",
       "    </tr>\n",
       "    <tr>\n",
       "      <th>9</th>\n",
       "      <td>50000.0</td>\n",
       "      <td>2</td>\n",
       "      <td>3</td>\n",
       "      <td>1</td>\n",
       "      <td>53</td>\n",
       "      <td>0</td>\n",
       "      <td>0</td>\n",
       "      <td>0</td>\n",
       "      <td>0</td>\n",
       "      <td>0</td>\n",
       "      <td>...</td>\n",
       "      <td>20218.0</td>\n",
       "      <td>20645.0</td>\n",
       "      <td>1770.0</td>\n",
       "      <td>2009.0</td>\n",
       "      <td>2593.0</td>\n",
       "      <td>1000.0</td>\n",
       "      <td>752.0</td>\n",
       "      <td>1017.0</td>\n",
       "      <td>1</td>\n",
       "      <td>-1</td>\n",
       "    </tr>\n",
       "  </tbody>\n",
       "</table>\n",
       "<p>10 rows × 25 columns</p>\n",
       "</div>"
      ],
      "text/plain": [
       "   LIMIT_BAL  SEX  EDUCATION  MARRIAGE  AGE  PAY_1  PAY_2  PAY_3  PAY_4  \\\n",
       "0   150000.0    2          2         2   24      1      2      0      0   \n",
       "1    50000.0    2          3         1   46      3      3      3      3   \n",
       "2   150000.0    2          2         1   41     -1     -1     -1     -1   \n",
       "3   150000.0    2          2         2   35      0      0      0      0   \n",
       "4    70000.0    2          1         1   35      1      2      2      2   \n",
       "5   170000.0    2          1         2   27     -1     -1     -1     -1   \n",
       "6   260000.0    2          1         1   29      0      0      0     -1   \n",
       "7    60000.0    2          2         2   26      0      0      0      0   \n",
       "8   230000.0    2          1         2   28     -1      2      0      0   \n",
       "9    50000.0    2          3         1   53      0      0      0      0   \n",
       "\n",
       "   PAY_5  ...  BILL_AMT5  BILL_AMT6  PAY_AMT1  PAY_AMT2  PAY_AMT3  PAY_AMT4  \\\n",
       "0      0  ...    34527.0    28277.0       0.0    2145.0   10000.0   22000.0   \n",
       "1      2  ...    30162.0    30016.0       0.0       0.0       0.0       0.0   \n",
       "2      0  ...     6923.0    14116.0       0.0       0.0    6784.0     159.0   \n",
       "3      0  ...    48983.0    50136.0    3500.0    2000.0   20000.0    2000.0   \n",
       "4      2  ...    45971.0    47573.0       0.0    6500.0    1800.0       0.0   \n",
       "5     -1  ...      759.0      602.0     272.0     272.0     755.0     759.0   \n",
       "6     -1  ...        0.0        0.0    3090.0       0.0       0.0       0.0   \n",
       "7      0  ...    -1073.0    -1073.0    1668.0    2000.0    1500.0       0.0   \n",
       "8      0  ...    20109.0    13700.0       0.0   27446.0    1400.0       0.0   \n",
       "9      0  ...    20218.0    20645.0    1770.0    2009.0    2593.0    1000.0   \n",
       "\n",
       "   PAY_AMT5  PAY_AMT6  NEXT_MONTH_DEFAULT  class_test  \n",
       "0    3000.0    5093.0                   0          -1  \n",
       "1    3100.0     798.0                   1           1  \n",
       "2     167.0     760.0                   0          -1  \n",
       "3    2000.0    2000.0                   0          -1  \n",
       "4    2500.0    2000.0                   0          -1  \n",
       "5     602.0    2581.0                   0          -1  \n",
       "6       0.0  141516.0                   0          -1  \n",
       "7       0.0   22000.0                   0          -1  \n",
       "8     274.0       0.0                   0          -1  \n",
       "9     752.0    1017.0                   1          -1  \n",
       "\n",
       "[10 rows x 25 columns]"
      ]
     },
     "execution_count": 56,
     "metadata": {},
     "output_type": "execute_result"
    }
   ],
   "source": [
    "mod_data.head(10)"
   ]
  },
  {
   "cell_type": "markdown",
   "metadata": {},
   "source": [
    "Remember that this data frame (x_data) includes the former target variable that we keep here just to compare the results\n",
    "\n",
    "[:-2] is the original class label for positive and negative data [:-1] is the new class for positive and unlabeled data"
   ]
  },
  {
   "cell_type": "code",
   "execution_count": 57,
   "metadata": {},
   "outputs": [],
   "source": [
    "x_data = mod_data.iloc[:,:-2].values # just the X \n",
    "y_labeled = mod_data.iloc[:,-1].values # new class (just the P & U)\n",
    "y_positive = mod_data.iloc[:,-2].values # original class"
   ]
  },
  {
   "cell_type": "markdown",
   "metadata": {},
   "source": [
    "### 1. random negative sampling"
   ]
  },
  {
   "cell_type": "code",
   "execution_count": 58,
   "metadata": {
    "scrolled": true
   },
   "outputs": [
    {
     "name": "stdout",
     "output_type": "stream",
     "text": [
      "(1208, 25) (1208, 25)\n"
     ]
    }
   ],
   "source": [
    "mod_data = mod_data.sample(frac=1)\n",
    "neg_sample = mod_data[mod_data['class_test']==-1][:len(mod_data[mod_data['class_test']==1])]\n",
    "sample_test = mod_data[mod_data['class_test']==-1][len(mod_data[mod_data['class_test']==1]):]\n",
    "pos_sample = mod_data[mod_data['class_test']==1]\n",
    "print(neg_sample.shape, pos_sample.shape)\n",
    "sample_train = pd.concat([neg_sample, pos_sample]).sample(frac=1)"
   ]
  },
  {
   "cell_type": "code",
   "execution_count": 59,
   "metadata": {},
   "outputs": [
    {
     "name": "stderr",
     "output_type": "stream",
     "text": [
      "/home/vyacheslav/.local/lib/python3.8/site-packages/xgboost/sklearn.py:888: UserWarning: The use of label encoder in XGBClassifier is deprecated and will be removed in a future release. To remove this warning, do the following: 1) Pass option use_label_encoder=False when constructing XGBClassifier object; and 2) Encode your labels (y) as integers starting with 0, i.e. 0, 1, 2, ..., [num_class - 1].\n",
      "  warnings.warn(label_encoder_deprecation_msg, UserWarning)\n"
     ]
    },
    {
     "name": "stdout",
     "output_type": "stream",
     "text": [
      "[10:35:09] WARNING: ../src/learner.cc:1061: Starting in XGBoost 1.3.0, the default evaluation metric used with the objective 'binary:logistic' was changed from 'error' to 'logloss'. Explicitly set eval_metric if you'd like to restore the old behavior.\n",
      "Classification results:\n",
      "f1: 31.21%\n",
      "roc: 68.09%\n",
      "recall: 74.09%\n",
      "precision: 19.77%\n"
     ]
    }
   ],
   "source": [
    "model = xgb.XGBClassifier()\n",
    "\n",
    "model.fit(sample_train.iloc[:,:-2].values, \n",
    "          sample_train.iloc[:,-2].values)\n",
    "y_predict = model.predict(sample_test.iloc[:,:-2].values)\n",
    "evaluate_results(sample_test.iloc[:,-2].values, y_predict)"
   ]
  },
  {
   "cell_type": "code",
   "execution_count": 60,
   "metadata": {},
   "outputs": [
    {
     "name": "stdout",
     "output_type": "stream",
     "text": [
      "[0.455988455988456, 0.38612677259525024, 0.41943573667711603, 0.41994301994301997, 0.3694874851013111, 0.33806566104702745, 0.31208136938724884]\n",
      "[0.6502814397866983, 0.6469685231238278, 0.6583787783491806, 0.6314385993465708, 0.6600894347936485, 0.6636675187278753, 0.6809035128449297]\n",
      "[0.3674418604651163, 0.7248236048749198, 0.7474860335195531, 0.7141472868217055, 0.7110091743119266, 0.7121495327102804, 0.7408716136631331]\n",
      "[0.6007604562737643, 0.2631578947368421, 0.29150326797385623, 0.2974172719935432, 0.249597423510467, 0.22164048865619546, 0.19767441860465115]\n"
     ]
    }
   ],
   "source": [
    "print(f1_)\n",
    "print(roc_)\n",
    "print(recall_)\n",
    "print(precision_)"
   ]
  },
  {
   "cell_type": "code",
   "execution_count": 24,
   "metadata": {},
   "outputs": [
    {
     "name": "stdout",
     "output_type": "stream",
     "text": [
      "|   RESULTS   | PRECISION | RECALL | FSCORE | ROC_AUC |\n",
      "|   БЕЗ RNS   |    0.60   |  0.37  |  0.46  |  0.65   |\n",
      "|    С RNS    |    0.26   |  0.72  |  0.39  |  0.65   |\n"
     ]
    }
   ],
   "source": [
    "print(f'|   RESULTS   | PRECISION | RECALL | FSCORE | ROC_AUC |')\n",
    "print(f'|   БЕЗ RNS   |    {precision_[0]:.2f}   |  {recall_[0]:.2f}  |  {f1_[0]:.2f}  |  {roc_[0]:.2f}   |')\n",
    "print(f'|    С RNS    |    {precision_[1]:.2f}   |  {recall_[1]:.2f}  |  {f1_[1]:.2f}  |  {roc_[1]:.2f}   |')"
   ]
  },
  {
   "cell_type": "markdown",
   "metadata": {},
   "source": [
    "### Вывод: большая разница между PRECISION и RECALL, что говорит о следующем:  В первом случае классификатор более пессимистичен и большему числу отбракованных верных ответов. Во втором случае классификатор более оптимистичен и более высокому числу ложно-положиетльных ответов."
   ]
  },
  {
   "cell_type": "markdown",
   "metadata": {},
   "source": [
    "Эксперимент в сторону уменьшения/увеличения размера Р"
   ]
  },
  {
   "cell_type": "code",
   "execution_count": 61,
   "metadata": {},
   "outputs": [
    {
     "name": "stdout",
     "output_type": "stream",
     "text": [
      "|   RESULTS   | PRECISION | RECALL | FSCORE | ROC_AUC |\n",
      "|   БЕЗ RNS   |    0.60   |  0.37  |  0.46  |  0.65   |\n",
      "|  С RNS  5%  |    0.30   |  0.71  |  0.42  |  0.63   |\n",
      "|  С RNS 15%  |    0.29   |  0.75  |  0.42  |  0.66   |\n",
      "|  С RNS 25%  |    0.26   |  0.72  |  0.39  |  0.65   |\n",
      "|  С RNS 35%  |    0.25   |  0.71  |  0.37  |  0.66   |\n",
      "|  С RNS 45%  |    0.22   |  0.71  |  0.34  |  0.66   |\n",
      "|  С RNS 55%  |    0.20   |  0.74  |  0.31  |  0.68   |\n"
     ]
    }
   ],
   "source": [
    "print(f'|   RESULTS   | PRECISION | RECALL | FSCORE | ROC_AUC |')\n",
    "print(f'|   БЕЗ RNS   |    {precision_[0]:.2f}   |  {recall_[0]:.2f}  |  {f1_[0]:.2f}  |  {roc_[0]:.2f}   |')\n",
    "print(f'|  С RNS  5%  |    {precision_[3]:.2f}   |  {recall_[3]:.2f}  |  {f1_[3]:.2f}  |  {roc_[3]:.2f}   |')\n",
    "print(f'|  С RNS 15%  |    {precision_[2]:.2f}   |  {recall_[2]:.2f}  |  {f1_[2]:.2f}  |  {roc_[2]:.2f}   |')\n",
    "print(f'|  С RNS 25%  |    {precision_[1]:.2f}   |  {recall_[1]:.2f}  |  {f1_[1]:.2f}  |  {roc_[1]:.2f}   |')\n",
    "print(f'|  С RNS 35%  |    {precision_[4]:.2f}   |  {recall_[4]:.2f}  |  {f1_[4]:.2f}  |  {roc_[4]:.2f}   |')\n",
    "print(f'|  С RNS 45%  |    {precision_[5]:.2f}   |  {recall_[5]:.2f}  |  {f1_[5]:.2f}  |  {roc_[5]:.2f}   |')\n",
    "print(f'|  С RNS 55%  |    {precision_[6]:.2f}   |  {recall_[6]:.2f}  |  {f1_[6]:.2f}  |  {roc_[6]:.2f}   |')"
   ]
  },
  {
   "cell_type": "markdown",
   "metadata": {},
   "source": [
    "### Вывод: 1) с увеличением размера Р PRECISION уменьшается, RECALL увеличивается, FSCORE уменьшается и ROC_AUC остается практически неизменным. Это говорит о том, что с увеличением размера Р классификатор становится более оптимистичным с увеличением ложно-положительных ответов. Гармоническое среднее уменьшается и ROC_AUC практически не меняется. В результате проведенного эксперимента для данной выборки я выбираю размер Р в 15%."
   ]
  },
  {
   "cell_type": "markdown",
   "metadata": {},
   "source": [
    "<b>Бонусный вопрос:</b>\n",
    "\n",
    "Как вы думаете, какой из методов на практике является более предпочтительным: random negative sampling или 2-step approach?"
   ]
  },
  {
   "cell_type": "markdown",
   "metadata": {},
   "source": [
    "Ваш ответ здесь:"
   ]
  },
  {
   "cell_type": "code",
   "execution_count": null,
   "metadata": {},
   "outputs": [],
   "source": []
  }
 ],
 "metadata": {
  "kernelspec": {
   "display_name": "Python 3",
   "language": "python",
   "name": "python3"
  },
  "language_info": {
   "codemirror_mode": {
    "name": "ipython",
    "version": 3
   },
   "file_extension": ".py",
   "mimetype": "text/x-python",
   "name": "python",
   "nbconvert_exporter": "python",
   "pygments_lexer": "ipython3",
   "version": "3.8.5"
  }
 },
 "nbformat": 4,
 "nbformat_minor": 2
}
